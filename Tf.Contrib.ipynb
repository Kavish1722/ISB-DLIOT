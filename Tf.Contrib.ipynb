{
 "cells": [
  {
   "cell_type": "code",
   "execution_count": null,
   "metadata": {},
   "outputs": [
    {
     "name": "stderr",
     "output_type": "stream",
     "text": [
      "/Users/kavish/anaconda3/lib/python3.6/site-packages/h5py/__init__.py:36: FutureWarning: Conversion of the second argument of issubdtype from `float` to `np.floating` is deprecated. In future, it will be treated as `np.float64 == np.dtype(float).type`.\n",
      "  from ._conv import register_converters as _register_converters\n"
     ]
    }
   ],
   "source": [
    "import tensorflow as tf\n",
    "import numpy as np\n",
    "\n",
    "# Data sets\n",
    "TRAINING = \"/Users/kavish/Desktop/DLIOT/iris_training.csv\"\n",
    "TEST = \"/Users/kavish/Desktop/DLIOT/iris_test.csv\"\n",
    "\n",
    "training_set = tf.contrib.learn.datasets.base.load_csv(filename=TRAINING,\n",
    "                                                       target_dtype=np.int)\n",
    "\n",
    "test_set = tf.contrib.learn.datasets.base.load_csv(filename=TEST,\n",
    "                                                   target_dtype=np.int)\n",
    "\n",
    "# Specify all features\n",
    "feature_columns = [tf.contrib.layers.real_valued_column(\"\", dimension=4)]\n",
    "\n",
    "# Build 3 layer DNN with 5, 10, 5 units respectively.\n",
    "classifier = tf.contrib.learn.DNNClassifier(feature_columns=feature_columns,\n",
    "                                            hidden_units=[5, 10, 5],\n",
    "                                         n_classes=3)\n",
    "\n",
    "train_X = training_set.loc[:,['instances','features','versicolor','setosa']]\n",
    "train_y = training_set.loc[:,['virginica']]\n",
    "test_X = test_set.loc[:,['instances','features','versicolor','setosa']]\n",
    "test_y = test_set.loc[:,['virginica']]\n",
    "\n",
    "\n",
    "# Fit model.\n",
    "classifier.fit(x=train_X,\n",
    "               y=train_y,\n",
    "               steps=2000)\n",
    "\n",
    "# Evaluate accuracy.\n",
    "accuracy_score = classifier.evaluate(x=test_set.data,\n",
    "                                     y=test_set.target)[\"accuracy\"]\n",
    "print('Accuracy: {0:f}'.format(accuracy_score))\n"
   ]
  },
  {
   "cell_type": "code",
   "execution_count": null,
   "metadata": {},
   "outputs": [],
   "source": []
  }
 ],
 "metadata": {
  "kernelspec": {
   "display_name": "Python 3",
   "language": "python",
   "name": "python3"
  },
  "language_info": {
   "codemirror_mode": {
    "name": "ipython",
    "version": 3
   },
   "file_extension": ".py",
   "mimetype": "text/x-python",
   "name": "python",
   "nbconvert_exporter": "python",
   "pygments_lexer": "ipython3",
   "version": "3.6.5"
  }
 },
 "nbformat": 4,
 "nbformat_minor": 2
}
